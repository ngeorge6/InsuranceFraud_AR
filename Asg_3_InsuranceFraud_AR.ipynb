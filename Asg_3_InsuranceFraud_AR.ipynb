{
 "cells": [
  {
   "cell_type": "code",
   "execution_count": 0,
   "metadata": {
    "colab": {
     "base_uri": "https://localhost:8080/",
     "height": 269
    },
    "colab_type": "code",
    "executionInfo": {
     "elapsed": 5964,
     "status": "ok",
     "timestamp": 1573090284795,
     "user": {
      "displayName": "Nithin George",
      "photoUrl": "",
      "userId": "01993130238656705094"
     },
     "user_tz": 420
    },
    "id": "QcwQ5hdHdllC",
    "outputId": "b9bb35e7-876f-4edb-fb03-c5db6783e98d"
   },
   "outputs": [
    {
     "name": "stdout",
     "output_type": "stream",
     "text": [
      "Collecting vecstack\n",
      "  Downloading https://files.pythonhosted.org/packages/d0/a1/b9a1e9e9e5a12078da1ab9788c7885e4c745358f7e57d5f94d9db6a4e898/vecstack-0.4.0.tar.gz\n",
      "Requirement already satisfied: numpy in /usr/local/lib/python3.6/dist-packages (from vecstack) (1.17.3)\n",
      "Requirement already satisfied: scipy in /usr/local/lib/python3.6/dist-packages (from vecstack) (1.3.1)\n",
      "Requirement already satisfied: scikit-learn>=0.18 in /usr/local/lib/python3.6/dist-packages (from vecstack) (0.21.3)\n",
      "Requirement already satisfied: joblib>=0.11 in /usr/local/lib/python3.6/dist-packages (from scikit-learn>=0.18->vecstack) (0.14.0)\n",
      "Building wheels for collected packages: vecstack\n",
      "  Building wheel for vecstack (setup.py) ... \u001b[?25l\u001b[?25hdone\n",
      "  Created wheel for vecstack: filename=vecstack-0.4.0-cp36-none-any.whl size=19879 sha256=cec08950c7c0d018689c450a2340aaa8d3f6c81fd9d2cdeef9069bfab8d3899f\n",
      "  Stored in directory: /root/.cache/pip/wheels/5f/bb/4e/f6488433d53bc0684673d6845e5bf11a25240577c8151c140e\n",
      "Successfully built vecstack\n",
      "Installing collected packages: vecstack\n",
      "Successfully installed vecstack-0.4.0\n"
     ]
    }
   ],
   "source": [
    "!pip install vecstack"
   ]
  },
  {
   "cell_type": "code",
   "execution_count": 0,
   "metadata": {
    "colab": {
     "base_uri": "https://localhost:8080/",
     "height": 73
    },
    "colab_type": "code",
    "executionInfo": {
     "elapsed": 1431,
     "status": "ok",
     "timestamp": 1573090290818,
     "user": {
      "displayName": "Nithin George",
      "photoUrl": "",
      "userId": "01993130238656705094"
     },
     "user_tz": 420
    },
    "id": "eQqGDszCfMbu",
    "outputId": "966f39c5-0a8f-4e26-f77e-bbd0ffb2d81f"
   },
   "outputs": [
    {
     "name": "stderr",
     "output_type": "stream",
     "text": [
      "/usr/local/lib/python3.6/dist-packages/sklearn/externals/six.py:31: DeprecationWarning: The module is deprecated in version 0.21 and will be removed in version 0.23 since we've dropped support for Python 2.7. Please rely on the official version of six (https://pypi.org/project/six/).\n",
      "  \"(https://pypi.org/project/six/).\", DeprecationWarning)\n"
     ]
    }
   ],
   "source": [
    "from vecstack import stacking\n",
    "import pandas as pd\n",
    "import numpy as np\n",
    "from sklearn.metrics import accuracy_score #works\n",
    "from sklearn.model_selection import train_test_split\n",
    "from sklearn.ensemble import RandomForestClassifier\n",
    "from sklearn.tree import DecisionTreeClassifier\n",
    "from sklearn.model_selection import GridSearchCV\n",
    "from sklearn.model_selection import RandomizedSearchCV\n",
    "from sklearn.model_selection import cross_val_score\n",
    "from sklearn.metrics import classification_report, confusion_matrix\n",
    "from sklearn.ensemble import GradientBoostingClassifier\n",
    "from sklearn.neural_network import MLPClassifier\n",
    "#from sklearn.ensemble import RandomForestClassifier\n",
    "from imblearn.over_sampling import SMOTE \n",
    "from sklearn.svm import SVC\n",
    "from collections import Counter #for Smote, \n",
    "\n",
    "import warnings\n",
    "warnings.filterwarnings(\"ignore\")\n"
   ]
  },
  {
   "cell_type": "code",
   "execution_count": 0,
   "metadata": {
    "colab": {
     "base_uri": "https://localhost:8080/",
     "height": 466
    },
    "colab_type": "code",
    "executionInfo": {
     "elapsed": 27602,
     "status": "ok",
     "timestamp": 1573090456683,
     "user": {
      "displayName": "Nithin George",
      "photoUrl": "",
      "userId": "01993130238656705094"
     },
     "user_tz": 420
    },
    "id": "1vyZX66TfUTt",
    "outputId": "4348b0a3-1a76-4afd-fe56-7dd2ffcaf46e"
   },
   "outputs": [
    {
     "name": "stdout",
     "output_type": "stream",
     "text": [
      "Go to this URL in a browser: https://accounts.google.com/o/oauth2/auth?client_id=947318989803-6bn6qk8qdgf4n4g3pfee6491hc0brc4i.apps.googleusercontent.com&redirect_uri=urn%3Aietf%3Awg%3Aoauth%3A2.0%3Aoob&scope=email%20https%3A%2F%2Fwww.googleapis.com%2Fauth%2Fdocs.test%20https%3A%2F%2Fwww.googleapis.com%2Fauth%2Fdrive%20https%3A%2F%2Fwww.googleapis.com%2Fauth%2Fdrive.photos.readonly%20https%3A%2F%2Fwww.googleapis.com%2Fauth%2Fpeopleapi.readonly&response_type=code\n",
      "\n",
      "Enter your authorization code:\n",
      "··········\n",
      "Mounted at /gdrive\n",
      "/gdrive\n",
      "(2999, 32)\n",
      "  MONTH  WEEKOFMONTH  DAYOFWEEK  ...  YEAR  BASEPOLICY FRAUDFOUND\n",
      "0   Jul            3     Sunday  ...  1994   Collision        Yes\n",
      "1   Nov            5     Monday  ...  1994  All_Perils        Yes\n",
      "2   Jan            1     Monday  ...  1994  All_Perils        Yes\n",
      "3   Dec            1     Monday  ...  1994  All_Perils        Yes\n",
      "4   Dec            5  Wednesday  ...  1994   Collision        Yes\n",
      "\n",
      "[5 rows x 32 columns]\n",
      "(12918, 32)\n",
      "  MONTH  WEEKOFMONTH  DAYOFWEEK  ...  YEAR  BASEPOLICY FRAUDFOUND\n",
      "0   Jul            3     Sunday  ...  1994   Collision        Yes\n",
      "1   Nov            5     Monday  ...  1994  All_Perils        Yes\n",
      "2   Jan            1     Monday  ...  1994  All_Perils        Yes\n",
      "3   Dec            1     Monday  ...  1994  All_Perils        Yes\n",
      "4   Dec            5  Wednesday  ...  1994   Collision        Yes\n",
      "\n",
      "[5 rows x 32 columns]\n"
     ]
    }
   ],
   "source": [
    "# To upload our datasets from our working directory we need to mount our drive contents to the colab environment. \n",
    "# For the code to do so you can search “mount” in code snippets or use the code given below. \n",
    "# Our entire drive contents are now mounted on colab at the location “/gdrive”.\n",
    "\n",
    "from google.colab import drive\n",
    "drive.mount('/gdrive')\n",
    "#Change current working directory to gdrive\n",
    "%cd /gdrive\n",
    "\n",
    "\n",
    "trainfile = r'/gdrive/My Drive/CIS 508/Class/Week3/IF_Train.csv'\n",
    "train_data = pd.read_csv(trainfile)\n",
    "\n",
    "testfile = r'/gdrive/My Drive/CIS 508/Class/Week3/IF_Test.csv'\n",
    "test_data = pd.read_csv(testfile)\n",
    "\n",
    "print(train_data.shape)\n",
    "print(train_data.head()) \n",
    "\n",
    "print(test_data.shape)\n",
    "print(test_data.head()) "
   ]
  },
  {
   "cell_type": "code",
   "execution_count": 0,
   "metadata": {
    "colab": {
     "base_uri": "https://localhost:8080/",
     "height": 303
    },
    "colab_type": "code",
    "executionInfo": {
     "elapsed": 555,
     "status": "ok",
     "timestamp": 1573090493842,
     "user": {
      "displayName": "Nithin George",
      "photoUrl": "",
      "userId": "01993130238656705094"
     },
     "user_tz": 420
    },
    "id": "OUBE7LTNfccW",
    "outputId": "b49bcc61-4c63-4b8c-d99f-e60ef954354a"
   },
   "outputs": [
    {
     "name": "stdout",
     "output_type": "stream",
     "text": [
      "(2999, 146)\n",
      "   WEEKOFMONTH  WEEKOFMONTHCLAIMED  ...  BASEPOLICY_Collision  BASEPOLICY_Liability\n",
      "0            3                   4  ...                     1                     0\n",
      "1            5                   1  ...                     0                     0\n",
      "2            1                   1  ...                     0                     0\n",
      "3            1                   3  ...                     0                     0\n",
      "4            5                   1  ...                     1                     0\n",
      "\n",
      "[5 rows x 146 columns]\n",
      "(2999,)\n",
      "0    1\n",
      "1    1\n",
      "2    1\n",
      "3    1\n",
      "4    1\n",
      "Name: FRAUDFOUND, dtype: int64\n"
     ]
    }
   ],
   "source": [
    "categoricalFeatures = [\"MONTH\",\n",
    "\"DAYOFWEEK\",\n",
    "\"MAKE\",\n",
    "\"ACCIDENTAREA\",\n",
    "\"DAYOFWEEKCLAIMED\",\n",
    "\"MONTHCLAIMED\",\n",
    "\"SEX\",\n",
    "\"MARITALSTATUS\",\n",
    "\"FAULT\",\n",
    "\"POLICYTYPE\",\n",
    "\"VEHICLECATEGORY\",\n",
    "\"VEHICLEPRICE\",\n",
    "\"DAYS_POLICY_ACCIDENT\",\n",
    "\"DAYS_POLICY_CLAIM\",\n",
    "\"PASTNUMBEROFCLAIMS\",\n",
    "\"AGEOFVEHICLE\",\n",
    "\"AGEOFPOLICYHOLDER\",\n",
    "\"POLICEREPORTFILED\",\n",
    "\"WITNESSPRESENT\",\n",
    "\"AGENTTYPE\",\n",
    "\"NUMBEROFSUPPLIMENTS\",\n",
    "\"ADDRESSCHANGE_CLAIM\",\n",
    "\"NUMBEROFCARS\",\n",
    "\"YEAR\",\n",
    "\"BASEPOLICY\"]\n",
    "\n",
    "\n",
    "#Copy Train data excluding target\n",
    "trainData_Copy = train_data.iloc[:, :-1].copy()\n",
    "testData_Copy = test_data.iloc[:, :-1].copy()\n",
    "\n",
    "#Combine Train and test for one Hot Encoding\n",
    "combined_Data = pd.concat([trainData_Copy,testData_Copy], keys=[0,1])\n",
    "\n",
    "#Do one Hot encoding for categorical features\n",
    "combined_Data = pd.get_dummies(combined_Data,columns=categoricalFeatures)\n",
    "#print(combined_Data['FRAUDFOUND'])\n",
    "\n",
    "#Separate Train data and test data\n",
    "X_train = combined_Data.xs(0)\n",
    "X_test = combined_Data.xs(1)\n",
    "y_train=train_data[\"FRAUDFOUND\"]\n",
    "y_test=test_data[\"FRAUDFOUND\"]\n",
    "\n",
    "train_data[\"FRAUDFOUND\"]=train_data[\"FRAUDFOUND\"].map({\"Yes\":1,\"No\":0})\n",
    "test_data[\"FRAUDFOUND\"]=test_data[\"FRAUDFOUND\"].map({\"Yes\":1,\"No\":0})\n",
    "\n",
    "#Select just Target Column\n",
    "y_train = train_data.iloc[:, -1]\n",
    "y_test = test_data.iloc[:, -1]\n",
    "\n",
    "print(X_train.shape)\n",
    "print(X_test.head()) \n",
    "\n",
    "print(y_train.shape)\n",
    "print(y_test.head()) "
   ]
  },
  {
   "cell_type": "code",
   "execution_count": 0,
   "metadata": {
    "colab": {
     "base_uri": "https://localhost:8080/",
     "height": 88
    },
    "colab_type": "code",
    "executionInfo": {
     "elapsed": 392,
     "status": "ok",
     "timestamp": 1573090499129,
     "user": {
      "displayName": "Nithin George",
      "photoUrl": "",
      "userId": "01993130238656705094"
     },
     "user_tz": 420
    },
    "id": "ouSzZTRsfnqO",
    "outputId": "7a3e4b6b-c4fe-4a90-e1fe-4410a0da88aa"
   },
   "outputs": [
    {
     "name": "stdout",
     "output_type": "stream",
     "text": [
      "accuracy Score (training) for Decision TreE:0.884038\n",
      "Confusion Matrix for Decision Tree\n",
      "[[10975  1445]\n",
      " [   53   445]]\n"
     ]
    }
   ],
   "source": [
    "#CONSTRUCT DEFAULT DECISION TREE AND OBTAIN RESPECTIVE ACCURACY ==================\n",
    "clf = DecisionTreeClassifier()\n",
    "clf.fit(X_train, y_train)\n",
    "clf_predict=clf.predict(X_test)\n",
    "print(\"accuracy Score (training) for Decision TreE:{0:6f}\".format(clf.score(X_test,y_test)))\n",
    "print(\"Confusion Matrix for Decision Tree\")\n",
    "print(confusion_matrix(y_test,clf_predict))\n"
   ]
  },
  {
   "cell_type": "code",
   "execution_count": 0,
   "metadata": {
    "colab": {
     "base_uri": "https://localhost:8080/",
     "height": 410
    },
    "colab_type": "code",
    "executionInfo": {
     "elapsed": 1525,
     "status": "ok",
     "timestamp": 1573090503232,
     "user": {
      "displayName": "Nithin George",
      "photoUrl": "",
      "userId": "01993130238656705094"
     },
     "user_tz": 420
    },
    "id": "feUn7ef5fy4s",
    "outputId": "e5d82a97-5baa-491e-c28c-9dd9ac5704df"
   },
   "outputs": [
    {
     "name": "stdout",
     "output_type": "stream",
     "text": [
      "{'min_samples_split': 20, 'max_depth': 3}\n",
      "accuracy Score (training) after hypertuning for Decision Tree:0.851138\n",
      "Confusion Matrix after hypertuning for Decision Tree\n",
      "[[10802  1618]\n",
      " [  305   193]]\n",
      "=== Classification Report ===\n",
      "              precision    recall  f1-score   support\n",
      "\n",
      "           0       0.97      0.87      0.92     12420\n",
      "           1       0.11      0.39      0.17       498\n",
      "\n",
      "    accuracy                           0.85     12918\n",
      "   macro avg       0.54      0.63      0.54     12918\n",
      "weighted avg       0.94      0.85      0.89     12918\n",
      "\n",
      "=== All AUC Scores ===\n",
      "[0.89740385 0.9525     0.8725     0.86769231 0.81740385 0.73254808\n",
      " 0.71913462 0.79019231 0.79144231 0.80394477]\n",
      "\n",
      "\n",
      "=== Mean AUC Score ===\n",
      "Mean AUC Score - Decision Tree:  0.8244762080867851\n"
     ]
    }
   ],
   "source": [
    "#Hyperparameter tuning done for decision tree classifier\n",
    "parameters={'min_samples_split' : range(10,100,10),'max_depth': range(1,20,2)}\n",
    "clf_random = RandomizedSearchCV(clf,parameters,n_iter=15)\n",
    "clf_random.fit(X_train, y_train)\n",
    "grid_parm=clf_random.best_params_\n",
    "print(grid_parm)\n",
    "\n",
    "#Using the parameters obtained from HyperParameterTuning in the DecisionTreeClassifier \n",
    "clf = DecisionTreeClassifier(**grid_parm)\n",
    "clf.fit(X_train,y_train)\n",
    "clf_predict = clf.predict(X_test)\n",
    "\n",
    "#Obtain accuracy ,confusion matrix,classification report and AUC values for the result above.\n",
    "print(\"accuracy Score (training) after hypertuning for Decision Tree:{0:6f}\".format(clf.score(X_test,y_test)))\n",
    "print(\"Confusion Matrix after hypertuning for Decision Tree\")\n",
    "print(confusion_matrix(y_test,clf_predict))\n",
    "print(\"=== Classification Report ===\")\n",
    "print(classification_report(y_test,clf_predict))\n",
    "\n",
    "#run cross-validation on best hyperparameters, get auc score\n",
    "clf_cv_score = cross_val_score(clf, X_train, y_train, cv=10, scoring=\"roc_auc\")\n",
    "print(\"=== All AUC Scores ===\")\n",
    "print(clf_cv_score)\n",
    "print('\\n')\n",
    "print(\"=== Mean AUC Score ===\")\n",
    "print(\"Mean AUC Score - Decision Tree: \",clf_cv_score.mean())\n"
   ]
  },
  {
   "cell_type": "code",
   "execution_count": 0,
   "metadata": {
    "colab": {
     "base_uri": "https://localhost:8080/",
     "height": 88
    },
    "colab_type": "code",
    "executionInfo": {
     "elapsed": 427,
     "status": "ok",
     "timestamp": 1573090507722,
     "user": {
      "displayName": "Nithin George",
      "photoUrl": "",
      "userId": "01993130238656705094"
     },
     "user_tz": 420
    },
    "id": "cuhgy0RcseYE",
    "outputId": "d67de14c-add9-4137-83ab-6133a7c548c9"
   },
   "outputs": [
    {
     "name": "stdout",
     "output_type": "stream",
     "text": [
      "accuracy Score (training) for RandomForest:0.945889\n",
      "Confusion Matrix for Random Forest:\n",
      "[[11828   592]\n",
      " [  107   391]]\n"
     ]
    }
   ],
   "source": [
    "#Random Forest =============================================================\n",
    "#Default mode\n",
    "rfc = RandomForestClassifier()\n",
    "rfc.fit(X_train, y_train)\n",
    "rfc_predict=rfc.predict(X_test)\n",
    "print(\"accuracy Score (training) for RandomForest:{0:6f}\".format(rfc.score(X_test,y_test)))\n",
    "print(\"Confusion Matrix for Random Forest:\")\n",
    "print(confusion_matrix(y_test,rfc_predict))\n",
    "\n",
    "\n"
   ]
  },
  {
   "cell_type": "code",
   "execution_count": 0,
   "metadata": {
    "colab": {
     "base_uri": "https://localhost:8080/",
     "height": 410
    },
    "colab_type": "code",
    "executionInfo": {
     "elapsed": 12280,
     "status": "ok",
     "timestamp": 1573090522766,
     "user": {
      "displayName": "Nithin George",
      "photoUrl": "",
      "userId": "01993130238656705094"
     },
     "user_tz": 420
    },
    "id": "oEApT8zrg9rb",
    "outputId": "8b2d57be-0548-407a-e1b8-eeed98c17a2f"
   },
   "outputs": [
    {
     "name": "stdout",
     "output_type": "stream",
     "text": [
      "{'n_estimators': 50, 'min_samples_split': 10, 'max_depth': 17}\n",
      "accuracy Score (training) after hypertuning for Random Forest:0.935903\n",
      "Confusion Matrix after hypertuning for Random Forest:\n",
      "[[11882   538]\n",
      " [  290   208]]\n",
      "=== Classification Report ===\n",
      "              precision    recall  f1-score   support\n",
      "\n",
      "           0       0.98      0.96      0.97     12420\n",
      "           1       0.28      0.42      0.33       498\n",
      "\n",
      "    accuracy                           0.94     12918\n",
      "   macro avg       0.63      0.69      0.65     12918\n",
      "weighted avg       0.95      0.94      0.94     12918\n",
      "\n",
      "=== All AUC Scores ===\n",
      "[0.89269231 0.91730769 0.92682692 0.8975     0.83875    0.7425\n",
      " 0.74990385 0.81384615 0.82       0.84053254]\n",
      "\n",
      "\n",
      "=== Mean AUC Score ===\n",
      "Mean AUC Score - Random Forest:  0.8439859467455622\n"
     ]
    }
   ],
   "source": [
    "#Hyperparameter tuning for random forest\n",
    "parameters={ 'n_estimators': range(50,150,20),'min_samples_split' : range(10,100,10),'max_depth': range(1,20,2)}\n",
    "rfc_random = RandomizedSearchCV(rfc,parameters,n_iter=15)\n",
    "rfc_random.fit(X_train, y_train)\n",
    "grid_parm_rfc=rfc_random.best_params_\n",
    "print(grid_parm_rfc)\n",
    "\n",
    "#contruct random forest using the best parameters\n",
    "rfc= RandomForestClassifier(**grid_parm_rfc)\n",
    "rfc.fit(X_train,y_train)\n",
    "rfc_predict = rfc.predict(X_test)\n",
    "print(\"accuracy Score (training) after hypertuning for Random Forest:{0:6f}\".format(rfc.score(X_test,y_test)))\n",
    "print(\"Confusion Matrix after hypertuning for Random Forest:\")\n",
    "print(confusion_matrix(y_test,rfc_predict))\n",
    "print(\"=== Classification Report ===\")\n",
    "print(classification_report(y_test,rfc_predict))\n",
    "\n",
    "#run cross-validation on best parameters, get auc score\n",
    "rfc_cv_score = cross_val_score(rfc, X_train, y_train, cv=10, scoring=\"roc_auc\")\n",
    "print(\"=== All AUC Scores ===\")\n",
    "print(rfc_cv_score)\n",
    "print('\\n')\n",
    "print(\"=== Mean AUC Score ===\")\n",
    "print(\"Mean AUC Score - Random Forest: \",rfc_cv_score.mean())\n"
   ]
  },
  {
   "cell_type": "code",
   "execution_count": 0,
   "metadata": {
    "colab": {
     "base_uri": "https://localhost:8080/",
     "height": 106
    },
    "colab_type": "code",
    "executionInfo": {
     "elapsed": 6862,
     "status": "ok",
     "timestamp": 1573090533288,
     "user": {
      "displayName": "Nithin George",
      "photoUrl": "",
      "userId": "01993130238656705094"
     },
     "user_tz": 420
    },
    "id": "91eLALAohcl0",
    "outputId": "b4349180-159b-409a-f79c-ff1819328cad"
   },
   "outputs": [
    {
     "name": "stdout",
     "output_type": "stream",
     "text": [
      "accuracy Score (training) for Boosting:0.909661\n",
      "Confusion Matrix for boosting:\n",
      "[[11546   874]\n",
      " [  293   205]]\n",
      "{'n_estimators': 5, 'learning_rate': 0.01}\n"
     ]
    }
   ],
   "source": [
    "#Gradient Boosting ============================================================\n",
    "search_grid={'n_estimators':[5,10,20, 30, 50],'learning_rate':[0.01,.1]}\n",
    "abc =GradientBoostingClassifier()\n",
    "abc.fit(X_train, y_train)\n",
    "abc_predict=abc.predict(X_test)\n",
    "print(\"accuracy Score (training) for Boosting:{0:6f}\".format(abc.score(X_test,y_test)))\n",
    "print(\"Confusion Matrix for boosting:\")\n",
    "print(confusion_matrix(y_test,abc_predict))\n",
    "\n",
    "#Randomized Search for hyperparameter tuning\n",
    "abc_random = RandomizedSearchCV(abc,search_grid,n_iter=15)\n",
    "abc_random.fit(X_train, y_train)\n",
    "grid_parm_abc=abc_random.best_params_\n",
    "print(grid_parm_abc)"
   ]
  },
  {
   "cell_type": "code",
   "execution_count": 0,
   "metadata": {
    "colab": {
     "base_uri": "https://localhost:8080/",
     "height": 392
    },
    "colab_type": "code",
    "executionInfo": {
     "elapsed": 1289,
     "status": "ok",
     "timestamp": 1573090539760,
     "user": {
      "displayName": "Nithin George",
      "photoUrl": "",
      "userId": "01993130238656705094"
     },
     "user_tz": 420
    },
    "id": "-Y4I06Ofht3T",
    "outputId": "e60bc006-8120-4055-8e36-ea578808a9e3"
   },
   "outputs": [
    {
     "name": "stdout",
     "output_type": "stream",
     "text": [
      "accuracy Score (training) after hypertuning for Boosting:0.961449\n",
      "Confusion Matrix after hypertuning for Boosting:\n",
      "[[12420     0]\n",
      " [  498     0]]\n",
      "=== Classification Report ===\n",
      "              precision    recall  f1-score   support\n",
      "\n",
      "           0       0.96      1.00      0.98     12420\n",
      "           1       0.00      0.00      0.00       498\n",
      "\n",
      "    accuracy                           0.96     12918\n",
      "   macro avg       0.48      0.50      0.49     12918\n",
      "weighted avg       0.92      0.96      0.94     12918\n",
      "\n",
      "=== All AUC Scores ===\n",
      "[0.89740385 0.9525     0.8725     0.86769231 0.81740385 0.73254808\n",
      " 0.71913462 0.79019231 0.79144231 0.80394477]\n",
      "\n",
      "\n",
      "=== Mean AUC Score ===\n",
      "Mean AUC Score - Boosting:  0.8244762080867851\n"
     ]
    }
   ],
   "source": [
    "#Construct Gradient Boosting Trees using the best parameters\n",
    "abc= GradientBoostingClassifier(**grid_parm_abc)\n",
    "abc.fit(X_train,y_train)\n",
    "abc_predict = abc.predict(X_test)\n",
    "print(\"accuracy Score (training) after hypertuning for Boosting:{0:6f}\".format(abc.score(X_test,y_test)))\n",
    "print(\"Confusion Matrix after hypertuning for Boosting:\")\n",
    "print(confusion_matrix(y_test,abc_predict))\n",
    "print(\"=== Classification Report ===\")\n",
    "print(classification_report(y_test,abc_predict))\n",
    "\n",
    "#run cross-validation on best parameters, get auc score\n",
    "abc_cv_score = cross_val_score(abc, X_train, y_train, cv=10, scoring=\"roc_auc\")\n",
    "print(\"=== All AUC Scores ===\")\n",
    "print(abc_cv_score)\n",
    "print('\\n')\n",
    "print(\"=== Mean AUC Score ===\")\n",
    "print(\"Mean AUC Score - Boosting: \",abc_cv_score.mean())\n"
   ]
  },
  {
   "cell_type": "code",
   "execution_count": 0,
   "metadata": {
    "colab": {
     "base_uri": "https://localhost:8080/",
     "height": 106
    },
    "colab_type": "code",
    "executionInfo": {
     "elapsed": 438,
     "status": "ok",
     "timestamp": 1573090543728,
     "user": {
      "displayName": "Nithin George",
      "photoUrl": "",
      "userId": "01993130238656705094"
     },
     "user_tz": 420
    },
    "id": "w9pdjPGfh2_T",
    "outputId": "ec75ac4f-2f10-4cb8-ecf5-f9edc47653fa"
   },
   "outputs": [
    {
     "name": "stdout",
     "output_type": "stream",
     "text": [
      "___________________________________________________________________\n",
      "SMOTE\n",
      "\n",
      "Original dataset shape Counter({0: 2600, 1: 399})\n",
      "Resampled dataset shape Counter({0: 2600, 1: 1300})\n"
     ]
    }
   ],
   "source": [
    "#SMOTE==============================================================================\n",
    "print(\"___________________________________________________________________\\nSMOTE\\n\")\n",
    "print('Original dataset shape %s' % Counter(y_train))\n",
    "sm = SMOTE(sampling_strategy='float', ratio=0.5)\n",
    "X_res, y_res = sm.fit_resample(X_train, y_train)\n",
    "print('Resampled dataset shape %s' % Counter(y_res))\n"
   ]
  },
  {
   "cell_type": "code",
   "execution_count": 0,
   "metadata": {
    "colab": {
     "base_uri": "https://localhost:8080/",
     "height": 660
    },
    "colab_type": "code",
    "executionInfo": {
     "elapsed": 5951,
     "status": "ok",
     "timestamp": 1573090551673,
     "user": {
      "displayName": "Nithin George",
      "photoUrl": "",
      "userId": "01993130238656705094"
     },
     "user_tz": 420
    },
    "id": "nW12HH9qh9rQ",
    "outputId": "2e7f6719-ba2b-47da-98c8-acee3f9b2b91"
   },
   "outputs": [
    {
     "name": "stdout",
     "output_type": "stream",
     "text": [
      "___________________________________________________________________________________________\n",
      "Ensemble Methods Predictions using GradientBoosting, RandomForest and Decision Tree Classifier\n",
      "\n",
      "task:         [classification]\n",
      "n_classes:    [2]\n",
      "metric:       [accuracy_score]\n",
      "mode:         [oof_pred_bag]\n",
      "n_models:     [3]\n",
      "\n",
      "model  0:     [GradientBoostingClassifier]\n",
      "    fold  0:  [0.87466667]\n",
      "    fold  1:  [0.88000000]\n",
      "    fold  2:  [0.89733333]\n",
      "    fold  3:  [0.90654206]\n",
      "    ----\n",
      "    MEAN:     [0.88963551] + [0.01286465]\n",
      "    FULL:     [0.88962988]\n",
      "\n",
      "model  1:     [RandomForestClassifier]\n",
      "    fold  0:  [0.88400000]\n",
      "    fold  1:  [0.88266667]\n",
      "    fold  2:  [0.88400000]\n",
      "    fold  3:  [0.88651535]\n",
      "    ----\n",
      "    MEAN:     [0.88429551] + [0.00139243]\n",
      "    FULL:     [0.88429476]\n",
      "\n",
      "model  2:     [DecisionTreeClassifier]\n",
      "    fold  0:  [0.82133333]\n",
      "    fold  1:  [0.85600000]\n",
      "    fold  2:  [0.84533333]\n",
      "    fold  3:  [0.84112150]\n",
      "    ----\n",
      "    MEAN:     [0.84094704] + [0.01255547]\n",
      "    FULL:     [0.84094698]\n",
      "\n"
     ]
    }
   ],
   "source": [
    "#STACKING MODELS =====================================================================\n",
    "print(\"___________________________________________________________________________________________\\nEnsemble Methods Predictions using GradientBoosting, RandomForest and Decision Tree Classifier\\n\")\n",
    "\n",
    "models = [ GradientBoostingClassifier(), RandomForestClassifier(), DecisionTreeClassifier() ]\n",
    "      \n",
    "S_Train, S_Test = stacking(models,                   \n",
    "                           X_train, y_train, X_test,   \n",
    "                           regression=False, \n",
    "     \n",
    "                           mode='oof_pred_bag', \n",
    "       \n",
    "                           needs_proba=False,\n",
    "         \n",
    "                           save_dir=None, \n",
    "            \n",
    "                           metric=accuracy_score, \n",
    "    \n",
    "                           n_folds=4, \n",
    "                 \n",
    "                           stratified=True,\n",
    "            \n",
    "                           shuffle=True,  \n",
    "            \n",
    "                           random_state=0,    \n",
    "         \n",
    "                           verbose=2)\n"
   ]
  },
  {
   "cell_type": "code",
   "execution_count": 0,
   "metadata": {
    "colab": {
     "base_uri": "https://localhost:8080/",
     "height": 267
    },
    "colab_type": "code",
    "executionInfo": {
     "elapsed": 590,
     "status": "ok",
     "timestamp": 1573090555764,
     "user": {
      "displayName": "Nithin George",
      "photoUrl": "",
      "userId": "01993130238656705094"
     },
     "user_tz": 420
    },
    "id": "-kGCHGTaiGTb",
    "outputId": "97d66a00-29a1-4ba3-f881-ffd12ef979e3"
   },
   "outputs": [
    {
     "name": "stdout",
     "output_type": "stream",
     "text": [
      "Final prediction score for ensemble methods: [0.93613562]\n",
      "Confusion Matrix after STACKING for Boosting:\n",
      "[[11905   515]\n",
      " [  310   188]]\n",
      "=== Classification Report ===\n",
      "              precision    recall  f1-score   support\n",
      "\n",
      "           0       0.97      0.96      0.97     12420\n",
      "           1       0.27      0.38      0.31       498\n",
      "\n",
      "    accuracy                           0.94     12918\n",
      "   macro avg       0.62      0.67      0.64     12918\n",
      "weighted avg       0.95      0.94      0.94     12918\n",
      "\n"
     ]
    }
   ],
   "source": [
    "#STACKING - CONTRUCT A GRADIENT BOOSTING MODEL==============================\n",
    "model = GradientBoostingClassifier()\n",
    "    \n",
    "model = model.fit(S_Train, y_train)\n",
    "y_pred = model.predict(S_Test)\n",
    "print('Final prediction score for ensemble methods: [%.8f]' % accuracy_score(y_test, y_pred))\n",
    "print(\"Confusion Matrix after STACKING for Boosting:\")\n",
    "print(confusion_matrix(y_test,y_pred))\n",
    "print(\"=== Classification Report ===\")\n",
    "print(classification_report(y_test,y_pred))\n"
   ]
  },
  {
   "cell_type": "code",
   "execution_count": 0,
   "metadata": {
    "colab": {
     "base_uri": "https://localhost:8080/",
     "height": 206
    },
    "colab_type": "code",
    "executionInfo": {
     "elapsed": 372,
     "status": "ok",
     "timestamp": 1573090558983,
     "user": {
      "displayName": "Nithin George",
      "photoUrl": "",
      "userId": "01993130238656705094"
     },
     "user_tz": 420
    },
    "id": "CKg4i4YTiPqi",
    "outputId": "59aac3fe-9802-4f98-acc0-9465d2d99212"
   },
   "outputs": [
    {
     "data": {
      "text/html": [
       "<div>\n",
       "<style scoped>\n",
       "    .dataframe tbody tr th:only-of-type {\n",
       "        vertical-align: middle;\n",
       "    }\n",
       "\n",
       "    .dataframe tbody tr th {\n",
       "        vertical-align: top;\n",
       "    }\n",
       "\n",
       "    .dataframe thead th {\n",
       "        text-align: right;\n",
       "    }\n",
       "</style>\n",
       "<table border=\"1\" class=\"dataframe\">\n",
       "  <thead>\n",
       "    <tr style=\"text-align: right;\">\n",
       "      <th></th>\n",
       "      <th>0</th>\n",
       "      <th>1</th>\n",
       "    </tr>\n",
       "  </thead>\n",
       "  <tbody>\n",
       "    <tr>\n",
       "      <th>0</th>\n",
       "      <td>0.181836</td>\n",
       "      <td>0.818164</td>\n",
       "    </tr>\n",
       "    <tr>\n",
       "      <th>1</th>\n",
       "      <td>0.181836</td>\n",
       "      <td>0.818164</td>\n",
       "    </tr>\n",
       "    <tr>\n",
       "      <th>2</th>\n",
       "      <td>0.181836</td>\n",
       "      <td>0.818164</td>\n",
       "    </tr>\n",
       "    <tr>\n",
       "      <th>3</th>\n",
       "      <td>0.181836</td>\n",
       "      <td>0.818164</td>\n",
       "    </tr>\n",
       "    <tr>\n",
       "      <th>4</th>\n",
       "      <td>0.500009</td>\n",
       "      <td>0.499991</td>\n",
       "    </tr>\n",
       "  </tbody>\n",
       "</table>\n",
       "</div>"
      ],
      "text/plain": [
       "          0         1\n",
       "0  0.181836  0.818164\n",
       "1  0.181836  0.818164\n",
       "2  0.181836  0.818164\n",
       "3  0.181836  0.818164\n",
       "4  0.500009  0.499991"
      ]
     },
     "execution_count": 14,
     "metadata": {
      "tags": []
     },
     "output_type": "execute_result"
    }
   ],
   "source": [
    "#Get Prediction Probability for the predicted class as a dataframe\n",
    "pred_Probability =pd.DataFrame(model.predict_proba(S_Test))\n",
    "\n",
    "pred_Probability.head()\n"
   ]
  },
  {
   "cell_type": "code",
   "execution_count": 0,
   "metadata": {
    "colab": {},
    "colab_type": "code",
    "id": "Q39c55RUiWq5"
   },
   "outputs": [],
   "source": []
  }
 ],
 "metadata": {
  "colab": {
   "collapsed_sections": [],
   "name": "Asg_3_InsuranceFraud_AR.ipynb",
   "provenance": []
  },
  "kernelspec": {
   "display_name": "Python 3",
   "language": "python",
   "name": "python3"
  },
  "language_info": {
   "codemirror_mode": {
    "name": "ipython",
    "version": 3
   },
   "file_extension": ".py",
   "mimetype": "text/x-python",
   "name": "python",
   "nbconvert_exporter": "python",
   "pygments_lexer": "ipython3",
   "version": "3.7.4"
  }
 },
 "nbformat": 4,
 "nbformat_minor": 1
}
